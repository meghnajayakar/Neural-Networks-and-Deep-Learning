{
 "cells": [
  {
   "cell_type": "markdown",
   "id": "a302f7af",
   "metadata": {},
   "source": [
    "#### J034 Meghna Jayakar Lab 1 \n",
    "\n",
    "28/7/24"
   ]
  },
  {
   "cell_type": "code",
   "execution_count": 62,
   "id": "6103e8a3",
   "metadata": {},
   "outputs": [],
   "source": [
    "import numpy as np\n",
    "import pandas as pd\n",
    "import matplotlib.pyplot as plt\n",
    "import seaborn as sns\n",
    "from tensorflow.keras.models import Sequential\n",
    "from tensorflow.keras.layers import Dense\n",
    "from sklearn.model_selection import train_test_split\n",
    "from sklearn.preprocessing import StandardScaler, MinMaxScaler\n",
    "from sklearn.impute import SimpleImputer\n",
    "from sklearn.metrics import r2_score"
   ]
  },
  {
   "cell_type": "code",
   "execution_count": 63,
   "id": "09a2a554",
   "metadata": {},
   "outputs": [
    {
     "data": {
      "text/html": [
       "<div>\n",
       "<style scoped>\n",
       "    .dataframe tbody tr th:only-of-type {\n",
       "        vertical-align: middle;\n",
       "    }\n",
       "\n",
       "    .dataframe tbody tr th {\n",
       "        vertical-align: top;\n",
       "    }\n",
       "\n",
       "    .dataframe thead th {\n",
       "        text-align: right;\n",
       "    }\n",
       "</style>\n",
       "<table border=\"1\" class=\"dataframe\">\n",
       "  <thead>\n",
       "    <tr style=\"text-align: right;\">\n",
       "      <th></th>\n",
       "      <th>ID</th>\n",
       "      <th>Name</th>\n",
       "      <th>Brand</th>\n",
       "      <th>Colour</th>\n",
       "      <th>Catagories</th>\n",
       "      <th>Price</th>\n",
       "    </tr>\n",
       "  </thead>\n",
       "  <tbody>\n",
       "    <tr>\n",
       "      <th>0</th>\n",
       "      <td>74416</td>\n",
       "      <td>Runway stripe dress</td>\n",
       "      <td>Stella McCartney</td>\n",
       "      <td>beige</td>\n",
       "      <td>dresses</td>\n",
       "      <td>111</td>\n",
       "    </tr>\n",
       "    <tr>\n",
       "      <th>1</th>\n",
       "      <td>73815</td>\n",
       "      <td>Reformation Kourtney Dress</td>\n",
       "      <td>Reformation</td>\n",
       "      <td>beige</td>\n",
       "      <td>dresses</td>\n",
       "      <td>50</td>\n",
       "    </tr>\n",
       "    <tr>\n",
       "      <th>2</th>\n",
       "      <td>73801</td>\n",
       "      <td>Ivory Viola bridal dress</td>\n",
       "      <td>Ghost</td>\n",
       "      <td>beige</td>\n",
       "      <td>dresses</td>\n",
       "      <td>75</td>\n",
       "    </tr>\n",
       "    <tr>\n",
       "      <th>3</th>\n",
       "      <td>73718</td>\n",
       "      <td>Pasu Dress - Rhino Tusk</td>\n",
       "      <td>Coucoo</td>\n",
       "      <td>beige</td>\n",
       "      <td>dresses</td>\n",
       "      <td>37</td>\n",
       "    </tr>\n",
       "    <tr>\n",
       "      <th>4</th>\n",
       "      <td>73605</td>\n",
       "      <td>Ellen</td>\n",
       "      <td>RIXO</td>\n",
       "      <td>beige</td>\n",
       "      <td>dresses</td>\n",
       "      <td>47</td>\n",
       "    </tr>\n",
       "    <tr>\n",
       "      <th>...</th>\n",
       "      <td>...</td>\n",
       "      <td>...</td>\n",
       "      <td>...</td>\n",
       "      <td>...</td>\n",
       "      <td>...</td>\n",
       "      <td>...</td>\n",
       "    </tr>\n",
       "    <tr>\n",
       "      <th>29992</th>\n",
       "      <td>872</td>\n",
       "      <td>Silk and wool-blend crepe dress yellow</td>\n",
       "      <td>Victoria Beckham</td>\n",
       "      <td>yellow</td>\n",
       "      <td>dresses, Smart, midi, Short Sleeve, Pencil, Mo...</td>\n",
       "      <td>102</td>\n",
       "    </tr>\n",
       "    <tr>\n",
       "      <th>29993</th>\n",
       "      <td>871</td>\n",
       "      <td>La Guardia Matching Set</td>\n",
       "      <td>Faithfull The Brand</td>\n",
       "      <td>yellow</td>\n",
       "      <td>dresses, Floral, Polka Dot, Loose, Smart Casua...</td>\n",
       "      <td>43</td>\n",
       "    </tr>\n",
       "    <tr>\n",
       "      <th>29994</th>\n",
       "      <td>844</td>\n",
       "      <td>One-shoulder ruffled crepe mini dress</td>\n",
       "      <td>Solace London</td>\n",
       "      <td>yellow</td>\n",
       "      <td>dresses, Vinyl-PVC-Synthetics, Smart, Formal, ...</td>\n",
       "      <td>75</td>\n",
       "    </tr>\n",
       "    <tr>\n",
       "      <th>29995</th>\n",
       "      <td>592</td>\n",
       "      <td>Billie Dress</td>\n",
       "      <td>Rebecca Vallance</td>\n",
       "      <td>yellow</td>\n",
       "      <td>dresses, Cotton-Jersey, Tie-Front, Skinny-Fit,...</td>\n",
       "      <td>42</td>\n",
       "    </tr>\n",
       "    <tr>\n",
       "      <th>29996</th>\n",
       "      <td>231</td>\n",
       "      <td>Yellow Maddie Striped-knit Mini Dress</td>\n",
       "      <td>Melissa Odabash</td>\n",
       "      <td>yellow</td>\n",
       "      <td>dresses, Wool-Cashmere, Horizontal Stripe, Cas...</td>\n",
       "      <td>32</td>\n",
       "    </tr>\n",
       "  </tbody>\n",
       "</table>\n",
       "<p>29997 rows × 6 columns</p>\n",
       "</div>"
      ],
      "text/plain": [
       "          ID                                    Name                Brand  \\\n",
       "0      74416                     Runway stripe dress     Stella McCartney   \n",
       "1      73815              Reformation Kourtney Dress          Reformation   \n",
       "2      73801                Ivory Viola bridal dress                Ghost   \n",
       "3      73718                 Pasu Dress - Rhino Tusk               Coucoo   \n",
       "4      73605                                   Ellen                 RIXO   \n",
       "...      ...                                     ...                  ...   \n",
       "29992    872  Silk and wool-blend crepe dress yellow     Victoria Beckham   \n",
       "29993    871                 La Guardia Matching Set  Faithfull The Brand   \n",
       "29994    844   One-shoulder ruffled crepe mini dress        Solace London   \n",
       "29995    592                            Billie Dress     Rebecca Vallance   \n",
       "29996    231   Yellow Maddie Striped-knit Mini Dress      Melissa Odabash   \n",
       "\n",
       "       Colour                                         Catagories  Price  \n",
       "0       beige                                            dresses    111  \n",
       "1       beige                                            dresses     50  \n",
       "2       beige                                            dresses     75  \n",
       "3       beige                                            dresses     37  \n",
       "4       beige                                            dresses     47  \n",
       "...       ...                                                ...    ...  \n",
       "29992  yellow  dresses, Smart, midi, Short Sleeve, Pencil, Mo...    102  \n",
       "29993  yellow  dresses, Floral, Polka Dot, Loose, Smart Casua...     43  \n",
       "29994  yellow  dresses, Vinyl-PVC-Synthetics, Smart, Formal, ...     75  \n",
       "29995  yellow  dresses, Cotton-Jersey, Tie-Front, Skinny-Fit,...     42  \n",
       "29996  yellow  dresses, Wool-Cashmere, Horizontal Stripe, Cas...     32  \n",
       "\n",
       "[29997 rows x 6 columns]"
      ]
     },
     "execution_count": 63,
     "metadata": {},
     "output_type": "execute_result"
    }
   ],
   "source": [
    "df = pd.read_csv('dress_rental_prices.csv')\n",
    "df"
   ]
  },
  {
   "cell_type": "code",
   "execution_count": 64,
   "id": "eaebf7a2",
   "metadata": {},
   "outputs": [],
   "source": [
    "df.columns = ['ID', 'Name', 'Brand', 'Colour', 'Categories', 'Price']"
   ]
  },
  {
   "cell_type": "code",
   "execution_count": 65,
   "id": "45d58190",
   "metadata": {},
   "outputs": [],
   "source": [
    "df.drop(['ID'], axis = 1, inplace = True)"
   ]
  },
  {
   "cell_type": "code",
   "execution_count": 66,
   "id": "4f6118e6",
   "metadata": {},
   "outputs": [
    {
     "data": {
      "text/plain": [
       "Name          25585\n",
       "Brand           931\n",
       "Colour           20\n",
       "Categories     5400\n",
       "Price           295\n",
       "dtype: int64"
      ]
     },
     "execution_count": 66,
     "metadata": {},
     "output_type": "execute_result"
    }
   ],
   "source": [
    "df.nunique()"
   ]
  },
  {
   "cell_type": "code",
   "execution_count": 67,
   "id": "10c85a2b",
   "metadata": {},
   "outputs": [
    {
     "data": {
      "text/html": [
       "<div>\n",
       "<style scoped>\n",
       "    .dataframe tbody tr th:only-of-type {\n",
       "        vertical-align: middle;\n",
       "    }\n",
       "\n",
       "    .dataframe tbody tr th {\n",
       "        vertical-align: top;\n",
       "    }\n",
       "\n",
       "    .dataframe thead th {\n",
       "        text-align: right;\n",
       "    }\n",
       "</style>\n",
       "<table border=\"1\" class=\"dataframe\">\n",
       "  <thead>\n",
       "    <tr style=\"text-align: right;\">\n",
       "      <th></th>\n",
       "      <th>Price</th>\n",
       "    </tr>\n",
       "  </thead>\n",
       "  <tbody>\n",
       "    <tr>\n",
       "      <th>count</th>\n",
       "      <td>29997.000000</td>\n",
       "    </tr>\n",
       "    <tr>\n",
       "      <th>mean</th>\n",
       "      <td>61.668800</td>\n",
       "    </tr>\n",
       "    <tr>\n",
       "      <th>std</th>\n",
       "      <td>38.138688</td>\n",
       "    </tr>\n",
       "    <tr>\n",
       "      <th>min</th>\n",
       "      <td>11.000000</td>\n",
       "    </tr>\n",
       "    <tr>\n",
       "      <th>25%</th>\n",
       "      <td>40.000000</td>\n",
       "    </tr>\n",
       "    <tr>\n",
       "      <th>50%</th>\n",
       "      <td>51.000000</td>\n",
       "    </tr>\n",
       "    <tr>\n",
       "      <th>75%</th>\n",
       "      <td>69.000000</td>\n",
       "    </tr>\n",
       "    <tr>\n",
       "      <th>max</th>\n",
       "      <td>793.000000</td>\n",
       "    </tr>\n",
       "  </tbody>\n",
       "</table>\n",
       "</div>"
      ],
      "text/plain": [
       "              Price\n",
       "count  29997.000000\n",
       "mean      61.668800\n",
       "std       38.138688\n",
       "min       11.000000\n",
       "25%       40.000000\n",
       "50%       51.000000\n",
       "75%       69.000000\n",
       "max      793.000000"
      ]
     },
     "execution_count": 67,
     "metadata": {},
     "output_type": "execute_result"
    }
   ],
   "source": [
    "df.describe()"
   ]
  },
  {
   "cell_type": "code",
   "execution_count": 68,
   "id": "1e431eaa",
   "metadata": {},
   "outputs": [
    {
     "name": "stdout",
     "output_type": "stream",
     "text": [
      "<class 'pandas.core.frame.DataFrame'>\n",
      "RangeIndex: 29997 entries, 0 to 29996\n",
      "Data columns (total 5 columns):\n",
      " #   Column      Non-Null Count  Dtype \n",
      "---  ------      --------------  ----- \n",
      " 0   Name        29995 non-null  object\n",
      " 1   Brand       29997 non-null  object\n",
      " 2   Colour      29997 non-null  object\n",
      " 3   Categories  29883 non-null  object\n",
      " 4   Price       29997 non-null  int64 \n",
      "dtypes: int64(1), object(4)\n",
      "memory usage: 1.1+ MB\n"
     ]
    }
   ],
   "source": [
    "df.info()"
   ]
  },
  {
   "cell_type": "code",
   "execution_count": 69,
   "id": "601b3605",
   "metadata": {},
   "outputs": [
    {
     "data": {
      "text/plain": [
       "Name            2\n",
       "Brand           0\n",
       "Colour          0\n",
       "Categories    114\n",
       "Price           0\n",
       "dtype: int64"
      ]
     },
     "execution_count": 69,
     "metadata": {},
     "output_type": "execute_result"
    }
   ],
   "source": [
    "df.isna().sum()"
   ]
  },
  {
   "cell_type": "code",
   "execution_count": 70,
   "id": "03a1d245",
   "metadata": {},
   "outputs": [],
   "source": [
    "imputer = SimpleImputer(strategy = 'most_frequent')\n",
    "df['Name'] = imputer.fit_transform(df[['Name']])\n",
    "df['Categories'] = imputer.fit_transform(df[['Categories']])"
   ]
  },
  {
   "cell_type": "code",
   "execution_count": 71,
   "id": "c811d06c",
   "metadata": {},
   "outputs": [
    {
     "data": {
      "text/plain": [
       "Name          0\n",
       "Brand         0\n",
       "Colour        0\n",
       "Categories    0\n",
       "Price         0\n",
       "dtype: int64"
      ]
     },
     "execution_count": 71,
     "metadata": {},
     "output_type": "execute_result"
    }
   ],
   "source": [
    "df.isna().sum()"
   ]
  },
  {
   "cell_type": "code",
   "execution_count": 72,
   "id": "3051bd24",
   "metadata": {},
   "outputs": [],
   "source": [
    "df.drop(['Name', 'Categories'], axis = 1, inplace = True)"
   ]
  },
  {
   "cell_type": "code",
   "execution_count": 73,
   "id": "73df71d2",
   "metadata": {},
   "outputs": [
    {
     "data": {
      "text/html": [
       "<div>\n",
       "<style scoped>\n",
       "    .dataframe tbody tr th:only-of-type {\n",
       "        vertical-align: middle;\n",
       "    }\n",
       "\n",
       "    .dataframe tbody tr th {\n",
       "        vertical-align: top;\n",
       "    }\n",
       "\n",
       "    .dataframe thead th {\n",
       "        text-align: right;\n",
       "    }\n",
       "</style>\n",
       "<table border=\"1\" class=\"dataframe\">\n",
       "  <thead>\n",
       "    <tr style=\"text-align: right;\">\n",
       "      <th></th>\n",
       "      <th>Brand</th>\n",
       "      <th>Colour</th>\n",
       "      <th>Price</th>\n",
       "    </tr>\n",
       "  </thead>\n",
       "  <tbody>\n",
       "    <tr>\n",
       "      <th>0</th>\n",
       "      <td>Stella McCartney</td>\n",
       "      <td>beige</td>\n",
       "      <td>111</td>\n",
       "    </tr>\n",
       "    <tr>\n",
       "      <th>1</th>\n",
       "      <td>Reformation</td>\n",
       "      <td>beige</td>\n",
       "      <td>50</td>\n",
       "    </tr>\n",
       "    <tr>\n",
       "      <th>2</th>\n",
       "      <td>Ghost</td>\n",
       "      <td>beige</td>\n",
       "      <td>75</td>\n",
       "    </tr>\n",
       "    <tr>\n",
       "      <th>3</th>\n",
       "      <td>Coucoo</td>\n",
       "      <td>beige</td>\n",
       "      <td>37</td>\n",
       "    </tr>\n",
       "    <tr>\n",
       "      <th>4</th>\n",
       "      <td>RIXO</td>\n",
       "      <td>beige</td>\n",
       "      <td>47</td>\n",
       "    </tr>\n",
       "  </tbody>\n",
       "</table>\n",
       "</div>"
      ],
      "text/plain": [
       "              Brand Colour  Price\n",
       "0  Stella McCartney  beige    111\n",
       "1       Reformation  beige     50\n",
       "2             Ghost  beige     75\n",
       "3            Coucoo  beige     37\n",
       "4              RIXO  beige     47"
      ]
     },
     "execution_count": 73,
     "metadata": {},
     "output_type": "execute_result"
    }
   ],
   "source": [
    "df.head()"
   ]
  },
  {
   "cell_type": "code",
   "execution_count": 74,
   "id": "860506cf",
   "metadata": {},
   "outputs": [],
   "source": [
    "df = pd.get_dummies(df, columns = ['Brand', 'Colour'])"
   ]
  },
  {
   "cell_type": "markdown",
   "id": "ca8392ed",
   "metadata": {},
   "source": [
    "#### Splitting in train and test sets"
   ]
  },
  {
   "cell_type": "code",
   "execution_count": 76,
   "id": "1e8bfc6a",
   "metadata": {},
   "outputs": [],
   "source": [
    "x = df.drop(['Price'], axis = 1)\n",
    "y = df['Price']"
   ]
  },
  {
   "cell_type": "code",
   "execution_count": 77,
   "id": "1407017e",
   "metadata": {},
   "outputs": [],
   "source": [
    "xtrain, xtest, ytrain, ytest = train_test_split(x, y, test_size = 0.2, random_state = 42)"
   ]
  },
  {
   "cell_type": "code",
   "execution_count": 78,
   "id": "a2635e4e",
   "metadata": {},
   "outputs": [
    {
     "name": "stdout",
     "output_type": "stream",
     "text": [
      "(23997, 951)\n",
      "(6000, 951)\n",
      "(23997,)\n",
      "(6000,)\n"
     ]
    }
   ],
   "source": [
    "for _ in [xtrain, xtest, ytrain, ytest]:\n",
    "    print(_.shape)"
   ]
  },
  {
   "cell_type": "markdown",
   "id": "14881035",
   "metadata": {},
   "source": [
    "#### Model Creation"
   ]
  },
  {
   "cell_type": "code",
   "execution_count": 79,
   "id": "e2216780",
   "metadata": {},
   "outputs": [],
   "source": [
    "model = Sequential([\n",
    "    Dense(units = 64, input_shape = (951, ), activation = 'relu'), \n",
    "    Dense(units = 32, activation = 'relu'),\n",
    "    Dense(units = 16, activation = 'relu'),\n",
    "    Dense(units = 1, activation = 'linear')\n",
    "])"
   ]
  },
  {
   "cell_type": "code",
   "execution_count": 80,
   "id": "fd548ee4",
   "metadata": {},
   "outputs": [
    {
     "name": "stdout",
     "output_type": "stream",
     "text": [
      "Model: \"sequential\"\n",
      "_________________________________________________________________\n",
      " Layer (type)                Output Shape              Param #   \n",
      "=================================================================\n",
      " dense (Dense)               (None, 64)                60928     \n",
      "                                                                 \n",
      " dense_1 (Dense)             (None, 32)                2080      \n",
      "                                                                 \n",
      " dense_2 (Dense)             (None, 16)                528       \n",
      "                                                                 \n",
      " dense_3 (Dense)             (None, 1)                 17        \n",
      "                                                                 \n",
      "=================================================================\n",
      "Total params: 63553 (248.25 KB)\n",
      "Trainable params: 63553 (248.25 KB)\n",
      "Non-trainable params: 0 (0.00 Byte)\n",
      "_________________________________________________________________\n"
     ]
    }
   ],
   "source": [
    "model.summary()"
   ]
  },
  {
   "cell_type": "code",
   "execution_count": 81,
   "id": "296952ec",
   "metadata": {},
   "outputs": [],
   "source": [
    "model.compile(optimizer = 'adam', loss = 'mse', metrics = ['mae'])"
   ]
  },
  {
   "cell_type": "code",
   "execution_count": 82,
   "id": "2e1bebdf",
   "metadata": {},
   "outputs": [
    {
     "name": "stdout",
     "output_type": "stream",
     "text": [
      "Epoch 1/10\n",
      "188/188 [==============================] - 2s 5ms/step - loss: 2915.0603 - mae: 38.5217\n",
      "Epoch 2/10\n",
      "188/188 [==============================] - 1s 4ms/step - loss: 1029.3351 - mae: 19.1378\n",
      "Epoch 3/10\n",
      "188/188 [==============================] - 1s 6ms/step - loss: 857.4940 - mae: 16.9130\n",
      "Epoch 4/10\n",
      "188/188 [==============================] - 1s 6ms/step - loss: 799.5485 - mae: 16.2199\n",
      "Epoch 5/10\n",
      "188/188 [==============================] - 1s 5ms/step - loss: 773.6538 - mae: 15.8443\n",
      "Epoch 6/10\n",
      "188/188 [==============================] - 1s 6ms/step - loss: 756.6627 - mae: 15.6789\n",
      "Epoch 7/10\n",
      "188/188 [==============================] - 1s 5ms/step - loss: 744.3407 - mae: 15.5394\n",
      "Epoch 8/10\n",
      "188/188 [==============================] - 1s 5ms/step - loss: 735.0770 - mae: 15.4296\n",
      "Epoch 9/10\n",
      "188/188 [==============================] - 1s 5ms/step - loss: 727.0294 - mae: 15.3051\n",
      "Epoch 10/10\n",
      "188/188 [==============================] - 1s 5ms/step - loss: 717.6268 - mae: 15.2450\n"
     ]
    }
   ],
   "source": [
    "history = model.fit(xtrain, ytrain, epochs = 10, batch_size = 128)"
   ]
  },
  {
   "cell_type": "markdown",
   "id": "a86917c2",
   "metadata": {},
   "source": [
    "#### Model Evaluation"
   ]
  },
  {
   "cell_type": "code",
   "execution_count": 83,
   "id": "293454e7",
   "metadata": {},
   "outputs": [
    {
     "data": {
      "image/png": "[encoded data removed]",
      "text/plain": [
       "<Figure size 640x480 with 1 Axes>"
      ]
     },
     "metadata": {},
     "output_type": "display_data"
    }
   ],
   "source": [
    "plt.plot(history.history['loss'], label = 'train')\n",
    "plt.title('Loss')\n",
    "plt.show()"
   ]
  },
  {
   "cell_type": "code",
   "execution_count": 85,
   "id": "4b8f804a",
   "metadata": {},
   "outputs": [
    {
     "name": "stdout",
     "output_type": "stream",
     "text": [
      "188/188 [==============================] - 1s 3ms/step - loss: 818.5205 - mae: 15.8450\n",
      "MAE: 15.844964981079102\n"
     ]
    }
   ],
   "source": [
    "loss, mae = model.evaluate(xtest, ytest)\n",
    "print(f'MAE: {mae}')"
   ]
  },
  {
   "cell_type": "markdown",
   "id": "453e63b8",
   "metadata": {},
   "source": [
    "#### Prediction"
   ]
  },
  {
   "cell_type": "code",
   "execution_count": 86,
   "id": "316925b6",
   "metadata": {},
   "outputs": [
    {
     "name": "stdout",
     "output_type": "stream",
     "text": [
      "188/188 [==============================] - 1s 2ms/step\n"
     ]
    },
    {
     "data": {
      "text/plain": [
       "array([[ 42.10448 ],\n",
       "       [ 46.147007],\n",
       "       [ 76.780045],\n",
       "       ...,\n",
       "       [ 40.96275 ],\n",
       "       [ 51.724457],\n",
       "       [113.58674 ]], dtype=float32)"
      ]
     },
     "execution_count": 86,
     "metadata": {},
     "output_type": "execute_result"
    }
   ],
   "source": [
    "ypreds = model.predict(xtest)\n",
    "ypreds"
   ]
  },
  {
   "cell_type": "code",
   "execution_count": 87,
   "id": "6802d904",
   "metadata": {},
   "outputs": [
    {
     "data": {
      "text/plain": [
       "0.47085032810350713"
      ]
     },
     "execution_count": 87,
     "metadata": {},
     "output_type": "execute_result"
    }
   ],
   "source": [
    "r2_score(ytest, ypreds)"
   ]
  },
  {
   "cell_type": "code",
   "execution_count": null,
   "id": "72e2a014",
   "metadata": {},
   "outputs": [],
   "source": []
  }
 ],
 "metadata": {
  "kernelspec": {
   "display_name": "Python 3 (ipykernel)",
   "language": "python",
   "name": "python3"
  },
  "language_info": {
   "codemirror_mode": {
    "name": "ipython",
    "version": 3
   },
   "file_extension": ".py",
   "mimetype": "text/x-python",
   "name": "python",
   "nbconvert_exporter": "python",
   "pygments_lexer": "ipython3",
   "version": "3.10.9"
  }
 },
 "nbformat": 4,
 "nbformat_minor": 5
}
