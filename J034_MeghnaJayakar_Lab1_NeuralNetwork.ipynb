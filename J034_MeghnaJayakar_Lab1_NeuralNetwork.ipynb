{
 "cells": [
  {
   "cell_type": "markdown",
   "id": "6749dc9e",
   "metadata": {},
   "source": [
    "#### J034 Meghna Jayakar Lab 1 \n",
    "\n",
    "28/7/24"
   ]
  },
  {
   "cell_type": "code",
   "execution_count": 1,
   "id": "375de103",
   "metadata": {},
   "outputs": [],
   "source": [
    "import numpy as np\n",
    "import pandas as pd"
   ]
  },
  {
   "cell_type": "markdown",
   "id": "880afd57",
   "metadata": {},
   "source": [
    "#### Activation Functions "
   ]
  },
  {
   "cell_type": "code",
   "execution_count": 7,
   "id": "bda01add",
   "metadata": {},
   "outputs": [],
   "source": [
    "def sigmoid(z):\n",
    "    a = 1/(1 + np.exp(-z))\n",
    "    return a"
   ]
  },
  {
   "cell_type": "code",
   "execution_count": 8,
   "id": "c867e03e",
   "metadata": {},
   "outputs": [],
   "source": [
    "def tanh(z):\n",
    "    a = (np.exp(z) - np.exp(-z))/(np.exp(z) + np.exp(-z))\n",
    "    return a"
   ]
  },
  {
   "cell_type": "code",
   "execution_count": 9,
   "id": "edf4c746",
   "metadata": {},
   "outputs": [],
   "source": [
    "def relu(z):\n",
    "    a = np.maximum(0, z)\n",
    "    return a"
   ]
  },
  {
   "cell_type": "code",
   "execution_count": 10,
   "id": "dc381ac5",
   "metadata": {},
   "outputs": [],
   "source": [
    "def leakyrelu(z):\n",
    "    a = np.maximum(0.01, z)\n",
    "    return a"
   ]
  },
  {
   "cell_type": "markdown",
   "id": "6924236e",
   "metadata": {},
   "source": [
    "#### Derivatives of Activation Functions"
   ]
  },
  {
   "cell_type": "code",
   "execution_count": 11,
   "id": "701681eb",
   "metadata": {},
   "outputs": [],
   "source": [
    "def dsigmoid(a):\n",
    "    da = a*(1 - a)\n",
    "    return da"
   ]
  },
  {
   "cell_type": "code",
   "execution_count": 12,
   "id": "a2a43765",
   "metadata": {},
   "outputs": [],
   "source": [
    "def dtanh(a):\n",
    "    da = (1 - a**2)\n",
    "    return da"
   ]
  },
  {
   "cell_type": "code",
   "execution_count": 13,
   "id": "c351a01b",
   "metadata": {},
   "outputs": [],
   "source": [
    "def drelu(a):\n",
    "    da = (np.int64(a > 0))\n",
    "    return da"
   ]
  },
  {
   "cell_type": "code",
   "execution_count": 14,
   "id": "95c90b4c",
   "metadata": {},
   "outputs": [],
   "source": [
    "def dleakyrelu(a, alpha = 0.01):\n",
    "    da = np.where(a > 0, 1, alpha)\n",
    "    return da"
   ]
  },
  {
   "cell_type": "markdown",
   "id": "2047c70c",
   "metadata": {},
   "source": [
    "#### Randomly generating X and y"
   ]
  },
  {
   "cell_type": "code",
   "execution_count": 18,
   "id": "ec09ab25",
   "metadata": {},
   "outputs": [],
   "source": [
    "x = np.random.randn(2, 3) # nx = 2, m = 3\n",
    "y = (np.random.randn(1, 3) > 0) # m = 3"
   ]
  },
  {
   "cell_type": "code",
   "execution_count": 21,
   "id": "9279e639",
   "metadata": {},
   "outputs": [
    {
     "data": {
      "text/plain": [
       "(array([[-0.47695544, -1.01818989,  1.82620117],\n",
       "        [ 0.33994065,  0.72108724,  0.43990343]]),\n",
       " (2, 3))"
      ]
     },
     "execution_count": 21,
     "metadata": {},
     "output_type": "execute_result"
    }
   ],
   "source": [
    "x, x.shape"
   ]
  },
  {
   "cell_type": "code",
   "execution_count": 22,
   "id": "37b57bcf",
   "metadata": {},
   "outputs": [
    {
     "data": {
      "text/plain": [
       "(array([[ True,  True,  True]]), (1, 3))"
      ]
     },
     "execution_count": 22,
     "metadata": {},
     "output_type": "execute_result"
    }
   ],
   "source": [
    "y, y.shape"
   ]
  },
  {
   "cell_type": "markdown",
   "id": "5d53fb11",
   "metadata": {},
   "source": [
    "#### Defining Layer Sizes"
   ]
  },
  {
   "cell_type": "code",
   "execution_count": 33,
   "id": "e37a6b7a",
   "metadata": {},
   "outputs": [],
   "source": [
    "def layer_sizes(x, y, node1):\n",
    "    nx = x.shape[0]\n",
    "    nh1 = node1\n",
    "    ny = y.shape[0]\n",
    "    \n",
    "    layersizes = {'nx': nx, 'nh1': nh1, 'ny': ny}\n",
    "    \n",
    "    return layersizes"
   ]
  },
  {
   "cell_type": "code",
   "execution_count": 34,
   "id": "8070e10a",
   "metadata": {},
   "outputs": [
    {
     "name": "stdout",
     "output_type": "stream",
     "text": [
      "{'nx': 2, 'nh1': 4, 'ny': 1}\n"
     ]
    }
   ],
   "source": [
    "layersizes = layer_sizes(x, y, node1 = 4)\n",
    "print(layersizes)"
   ]
  },
  {
   "cell_type": "markdown",
   "id": "3675c263",
   "metadata": {},
   "source": [
    "#### Initializing weights and biases"
   ]
  },
  {
   "cell_type": "code",
   "execution_count": 35,
   "id": "0ef88006",
   "metadata": {},
   "outputs": [],
   "source": [
    "def initialize_parameters(layersizes):\n",
    "    nx = layersizes['nx']\n",
    "    nh1 = layersizes['nh1']\n",
    "    ny = layersizes['ny']\n",
    "    \n",
    "    w1 = np.random.randn(nh1, nx)\n",
    "    b1 = np.random.randn(nh1, 1)\n",
    "    \n",
    "    w2 = np.random.randn(ny, nh1)\n",
    "    b2 = np.random.randn(ny, 1)\n",
    "    \n",
    "    parameters = {'w1': w1, 'b1': b1, 'w2': w2, 'b2': b2}\n",
    "    \n",
    "    return parameters"
   ]
  },
  {
   "cell_type": "code",
   "execution_count": 36,
   "id": "e777f480",
   "metadata": {},
   "outputs": [
    {
     "name": "stdout",
     "output_type": "stream",
     "text": [
      "{'w1': array([[ 0.96304868,  0.33576726],\n",
      "       [ 0.19928678, -0.02631709],\n",
      "       [-1.73630317,  1.2026754 ],\n",
      "       [ 0.61347926,  0.66688338]]), 'b1': array([[ 0.41451347],\n",
      "       [ 1.97907769],\n",
      "       [-0.34842484],\n",
      "       [-1.03361147]]), 'w2': array([[ 0.70462661,  0.12093668,  1.72860692, -1.17422484]]), 'b2': array([[1.20614356]])}\n"
     ]
    }
   ],
   "source": [
    "parameters = initialize_parameters(layersizes)\n",
    "print(parameters)"
   ]
  },
  {
   "cell_type": "markdown",
   "id": "cd11ef0a",
   "metadata": {},
   "source": [
    "#### Forward Propagation"
   ]
  },
  {
   "cell_type": "code",
   "execution_count": 41,
   "id": "f46ffc67",
   "metadata": {},
   "outputs": [],
   "source": [
    "def forwardprop(x, parameters):\n",
    "    w1 = parameters['w1']\n",
    "    b1 = parameters['b1']\n",
    "    w2 = parameters['w2']\n",
    "    b2 = parameters['b2']\n",
    "    \n",
    "    z1 = np.dot(w1, x) + b1\n",
    "    a1 = np.tanh(z1)\n",
    "    \n",
    "    z2 = np.dot(w2, a1) + b2\n",
    "    a2 = sigmoid(z2)\n",
    "    \n",
    "    cache = {'z1': z1, 'a1': a1, 'z2': z2, 'a2': a2}\n",
    "    \n",
    "    return a2, cache"
   ]
  },
  {
   "cell_type": "code",
   "execution_count": 42,
   "id": "154220a7",
   "metadata": {},
   "outputs": [
    {
     "name": "stdout",
     "output_type": "stream",
     "text": [
      "[[0.97176456 0.97732195 0.46757287]] {'z1': array([[ 0.0693231 , -0.32393548,  2.32093926],\n",
      "       [ 1.87508053,  1.75718898,  2.33143846],\n",
      "       [ 0.88855266,  2.28669538, -2.99020268],\n",
      "       [-1.09951298, -1.17736876,  0.38008936]]), 'a1': array([[ 0.06921227, -0.31306105,  0.98090492],\n",
      "       [ 0.95405249,  0.94218822,  0.981298  ],\n",
      "       [ 0.71067813,  0.97956515, -0.99495714],\n",
      "       [-0.80032401, -0.82662011,  0.36278507]]), 'z2': array([[ 3.53853577,  3.76341849, -0.12989085]]), 'a2': array([[0.97176456, 0.97732195, 0.46757287]])}\n"
     ]
    }
   ],
   "source": [
    "a2, cache = forwardprop(x, parameters)\n",
    "print(a2, cache)"
   ]
  },
  {
   "cell_type": "markdown",
   "id": "65133f93",
   "metadata": {},
   "source": [
    "#### Cost Function"
   ]
  },
  {
   "cell_type": "code",
   "execution_count": 45,
   "id": "50e12af6",
   "metadata": {},
   "outputs": [],
   "source": [
    "def costcompute(a2, y):\n",
    "    m = y.shape[1]\n",
    "    \n",
    "    lossfunc = (y * np.log(a2) + (1 - y) * (np.log(1 - a2)))\n",
    "    cost = np.sum(lossfunc)/m\n",
    "    cost = float(np.squeeze(cost))\n",
    "    \n",
    "    return cost"
   ]
  },
  {
   "cell_type": "code",
   "execution_count": 46,
   "id": "ad471a7a",
   "metadata": {},
   "outputs": [
    {
     "data": {
      "text/plain": [
       "-0.2705936523029923"
      ]
     },
     "execution_count": 46,
     "metadata": {},
     "output_type": "execute_result"
    }
   ],
   "source": [
    "costcompute(a2, y)"
   ]
  },
  {
   "cell_type": "markdown",
   "id": "952b2bc4",
   "metadata": {},
   "source": [
    "#### Back Propagation"
   ]
  },
  {
   "cell_type": "code",
   "execution_count": 47,
   "id": "2a43ab25",
   "metadata": {},
   "outputs": [],
   "source": [
    "def backprop(cache, x, y, parameters):\n",
    "    m = y.shape[1]\n",
    "    \n",
    "    w1 = parameters['w1']\n",
    "    b1 = parameters['b1']\n",
    "    w2 = parameters['w2']\n",
    "    b2 = parameters['b2']\n",
    "    \n",
    "    z1 = cache['z1']\n",
    "    a1 = cache['a1']\n",
    "    z2 = cache['z2']\n",
    "    a2 = cache['a2']\n",
    "    \n",
    "    dz2 = a2 - y\n",
    "    dw2 = np.dot(dz2, a1.T)\n",
    "    db2 = np.sum(dz2, axis = 1, keepdims = True)/m\n",
    "    \n",
    "    da1 = np.dot(w2.T, dz2)\n",
    "    dz1 = da1 * dtanh(a1)\n",
    "    dw1 = np.dot(dz1, x.T)\n",
    "    db1 = np.sum(dz1, axis = 1, keepdims = True)/m\n",
    "    \n",
    "    gradients = {'dw2': dw2, 'db2': db2, 'dw1': dw1, 'db1': db1}\n",
    "    \n",
    "    return gradients"
   ]
  },
  {
   "cell_type": "code",
   "execution_count": 48,
   "id": "50861020",
   "metadata": {},
   "outputs": [
    {
     "name": "stdout",
     "output_type": "stream",
     "text": [
      "{'dw2': array([[-0.51711502, -0.57077476,  0.48746124, -0.15181298]]), 'db2': array([[-0.19444687]]), 'dw1': array([[-0.00179569, -0.02336677],\n",
      "       [-0.0038974 , -0.00137585],\n",
      "       [-0.00377252, -0.01342847],\n",
      "       [ 0.9771844 ,  0.2489591 ]]), 'db1': array([[-0.01613477],\n",
      "       [-0.00100015],\n",
      "       [-0.01166723],\n",
      "       [ 0.1877527 ]])}\n"
     ]
    }
   ],
   "source": [
    "gradients = backprop(cache, x, y, parameters)\n",
    "print(gradients)"
   ]
  },
  {
   "cell_type": "markdown",
   "id": "18ed7411",
   "metadata": {},
   "source": [
    "#### Updating the Gradients"
   ]
  },
  {
   "cell_type": "code",
   "execution_count": 49,
   "id": "c6d9680e",
   "metadata": {},
   "outputs": [],
   "source": [
    "def update(parameters, gradients, lr = 0.01):\n",
    "    w1 = parameters['w1']\n",
    "    b1 = parameters['b1']\n",
    "    w2 = parameters['w2']\n",
    "    b2 = parameters['b2']\n",
    "    \n",
    "    dw1 = gradients['dw1']\n",
    "    db1 = gradients['db1']\n",
    "    dw2 = gradients['dw2']\n",
    "    db2 = gradients['db2']\n",
    "    \n",
    "    w1 = w1 - lr*dw1\n",
    "    b1 = b1 - lr*db1\n",
    "    \n",
    "    w2 = w2 - lr*dw2\n",
    "    b2 = b2 - lr*db2\n",
    "    \n",
    "    parameters = {'w1': w1, 'b1': b1, 'w2': w2, 'b2': b2}\n",
    "    \n",
    "    return parameters"
   ]
  },
  {
   "cell_type": "code",
   "execution_count": 50,
   "id": "dcdc4c7d",
   "metadata": {},
   "outputs": [
    {
     "name": "stdout",
     "output_type": "stream",
     "text": [
      "{'w1': array([[ 0.96306664,  0.33600093],\n",
      "       [ 0.19932576, -0.02630334],\n",
      "       [-1.73626544,  1.20280968],\n",
      "       [ 0.60370742,  0.66439378]]), 'b1': array([[ 0.41467482],\n",
      "       [ 1.97908769],\n",
      "       [-0.34830817],\n",
      "       [-1.035489  ]]), 'w2': array([[ 0.70979776,  0.12664443,  1.7237323 , -1.17270671]]), 'b2': array([[1.20808803]])}\n"
     ]
    }
   ],
   "source": [
    "parameters = update(parameters, gradients, lr = 0.01)\n",
    "print(parameters)"
   ]
  },
  {
   "cell_type": "markdown",
   "id": "01ed5c09",
   "metadata": {},
   "source": [
    "#### Network"
   ]
  },
  {
   "cell_type": "code",
   "execution_count": 53,
   "id": "bf506ebf",
   "metadata": {},
   "outputs": [],
   "source": [
    "def neuralnetwork(x, y, layersizes, epochs = 1000, pcost = False):\n",
    "    nx = layersizes['nx']\n",
    "    nh1 = layersizes['nh1']\n",
    "    ny = layersizes['ny']\n",
    "    \n",
    "    parameters = initialize_parameters(layersizes)\n",
    "    \n",
    "    for i in range(0, epochs):\n",
    "        a2, cache = forwardprop(x, parameters)\n",
    "        \n",
    "        cost = costcompute(a2, y)\n",
    "        \n",
    "        gradients = backprop(cache, x, y, parameters)\n",
    "        \n",
    "        parameters = update(parameters, gradients, lr = 0.01)\n",
    "        \n",
    "        if pcost and i % 100 == 0:\n",
    "            print(f'Cost {i} {cost}')\n",
    "    return parameters"
   ]
  },
  {
   "cell_type": "code",
   "execution_count": 54,
   "id": "be1ca787",
   "metadata": {},
   "outputs": [
    {
     "name": "stdout",
     "output_type": "stream",
     "text": [
      "Cost 0 -2.615394810152418\n",
      "Cost 100 -0.29468400802824984\n",
      "Cost 200 -0.10398834285014032\n",
      "Cost 300 -0.05982427277589108\n",
      "Cost 400 -0.04126624390741442\n",
      "Cost 500 -0.03124198201898766\n",
      "Cost 600 -0.025022781612078365\n",
      "Cost 700 -0.02080994174414183\n",
      "Cost 800 -0.017777609089673973\n",
      "Cost 900 -0.015495807236903652\n"
     ]
    },
    {
     "data": {
      "text/plain": [
       "{'w1': array([[-1.28532108,  0.08085677],\n",
       "        [ 0.29937374,  0.63224946],\n",
       "        [ 0.10805754,  0.86917612],\n",
       "        [ 0.00391111,  0.38011158]]),\n",
       " 'b1': array([[-0.50366198],\n",
       "        [ 0.4061873 ],\n",
       "        [ 0.88441619],\n",
       "        [-1.7405434 ]]),\n",
       " 'w2': array([[ 0.31423501,  0.91082094,  2.4439194 , -2.73305395]]),\n",
       " 'b2': array([[-0.8451474]])}"
      ]
     },
     "execution_count": 54,
     "metadata": {},
     "output_type": "execute_result"
    }
   ],
   "source": [
    "neuralnetwork(x, y, layersizes, epochs = 1000, pcost = True)"
   ]
  },
  {
   "cell_type": "code",
   "execution_count": null,
   "id": "490e66de",
   "metadata": {},
   "outputs": [],
   "source": []
  }
 ],
 "metadata": {
  "kernelspec": {
   "display_name": "Python 3 (ipykernel)",
   "language": "python",
   "name": "python3"
  },
  "language_info": {
   "codemirror_mode": {
    "name": "ipython",
    "version": 3
   },
   "file_extension": ".py",
   "mimetype": "text/x-python",
   "name": "python",
   "nbconvert_exporter": "python",
   "pygments_lexer": "ipython3",
   "version": "3.10.9"
  }
 },
 "nbformat": 4,
 "nbformat_minor": 5
}
